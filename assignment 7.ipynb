{
 "cells": [
  {
   "cell_type": "code",
   "execution_count": null,
   "id": "92349580",
   "metadata": {},
   "outputs": [],
   "source": [
    "#Scenario1:\n",
    "#credit card offer.\n",
    " #if your salary is less than 10000.  credit limit 10 times of your salary. \n",
    " #if your salary is 10000 to 30000.  Credit limit is 20 time of your salary.\n",
    " #if your salary is more than 30000.  Credit limit is 30 times of your salary.\n"
   ]
  },
  {
   "cell_type": "code",
   "execution_count": 1,
   "id": "be4b87b3",
   "metadata": {},
   "outputs": [],
   "source": [
    "def cc(salary,cl):\n",
    "    if salary<10000:\n",
    "        cl=10*salary\n",
    "    elif salary>=10000and salary<=30000:\n",
    "        cl=20*salary\n",
    "    elif salary>30000:\n",
    "        cl=30*salary\n",
    "    return cl"
   ]
  },
  {
   "cell_type": "code",
   "execution_count": null,
   "id": "1b944d0d",
   "metadata": {},
   "outputs": [],
   "source": [
    "def cc(salary,cl):\n",
    "    if salary<10000:\n",
    "        cl=salary*10\n",
    "    elif salary>=10000and salary<=30000:\n",
    "        cl=salary*20\n",
    "    elif salary>30000:\n",
    "        cl=salary*30\n",
    "    return cl"
   ]
  },
  {
   "cell_type": "code",
   "execution_count": 3,
   "id": "7bcdb24b",
   "metadata": {},
   "outputs": [
    {
     "data": {
      "text/plain": [
       "200000"
      ]
     },
     "execution_count": 3,
     "metadata": {},
     "output_type": "execute_result"
    }
   ],
   "source": [
    "cc(10000,20)"
   ]
  },
  {
   "cell_type": "code",
   "execution_count": 4,
   "id": "ca07d21f",
   "metadata": {},
   "outputs": [
    {
     "data": {
      "text/plain": [
       "400000"
      ]
     },
     "execution_count": 4,
     "metadata": {},
     "output_type": "execute_result"
    }
   ],
   "source": [
    "cc(20000,20)"
   ]
  },
  {
   "cell_type": "code",
   "execution_count": 5,
   "id": "81aaea52",
   "metadata": {},
   "outputs": [
    {
     "data": {
      "text/plain": [
       "1050000"
      ]
     },
     "execution_count": 5,
     "metadata": {},
     "output_type": "execute_result"
    }
   ],
   "source": [
    "cc(35000,30)"
   ]
  },
  {
   "cell_type": "code",
   "execution_count": null,
   "id": "ed76a4ef",
   "metadata": {},
   "outputs": [],
   "source": [
    " Scenario2:\n",
    "# DMart discount offer. \n",
    " #if your purchase amount is less than 20000. discount is 20%.\n",
    "#if your purchase amount is 20000 to 40000. discount is 30%. \n",
    "#if your purchase amount is more than 50000. discount is 40%."
   ]
  },
  {
   "cell_type": "code",
   "execution_count": 4,
   "id": "8fb05eda",
   "metadata": {},
   "outputs": [],
   "source": [
    "def DMart_discountoffer(purchase,discount):\n",
    "    if purchase<20000:\n",
    "        discount=purchase*.20\n",
    "    elif purchase>=20000 and purchase<=40000:\n",
    "        discount=purchase*.30\n",
    "    elif purchase>50000:\n",
    "        discount=purchase*.40\n",
    "    return discount"
   ]
  },
  {
   "cell_type": "code",
   "execution_count": 5,
   "id": "4d0e29cc",
   "metadata": {},
   "outputs": [
    {
     "data": {
      "text/plain": [
       "7500.0"
      ]
     },
     "execution_count": 5,
     "metadata": {},
     "output_type": "execute_result"
    }
   ],
   "source": [
    " DMart_discountoffer(25000,30) "
   ]
  },
  {
   "cell_type": "code",
   "execution_count": 6,
   "id": "2f59961f",
   "metadata": {},
   "outputs": [
    {
     "data": {
      "text/plain": [
       "1000.0"
      ]
     },
     "execution_count": 6,
     "metadata": {},
     "output_type": "execute_result"
    }
   ],
   "source": [
    " DMart_discountoffer(5000,20)"
   ]
  },
  {
   "cell_type": "code",
   "execution_count": 7,
   "id": "e0b0567e",
   "metadata": {},
   "outputs": [
    {
     "data": {
      "text/plain": [
       "20400.0"
      ]
     },
     "execution_count": 7,
     "metadata": {},
     "output_type": "execute_result"
    }
   ],
   "source": [
    " DMart_discountoffer(51000,40)"
   ]
  },
  {
   "cell_type": "code",
   "execution_count": null,
   "id": "d7e52f4a",
   "metadata": {},
   "outputs": [],
   "source": [
    "Scenario3:\n",
    "Amazom online offer. \n",
    "if product is electoric type then 20% discount. \n",
    "if product is cloth type then 30% discount. \n",
    "if product is footware then 40% discount."
   ]
  },
  {
   "cell_type": "code",
   "execution_count": 18,
   "id": "b4a97cfd",
   "metadata": {},
   "outputs": [],
   "source": [
    "def amazon_onlineoffer(product,cost):\n",
    "    if product==\"electoric\":\n",
    "        discount=cost*.20\n",
    "    elif product==\"cloth\":\n",
    "        discount=cost*.30\n",
    "    elif product==\"footware\":\n",
    "        discount=cost*.40\n",
    "    return discount"
   ]
  },
  {
   "cell_type": "code",
   "execution_count": 19,
   "id": "2077abe6",
   "metadata": {},
   "outputs": [
    {
     "data": {
      "text/plain": [
       "2000.0"
      ]
     },
     "execution_count": 19,
     "metadata": {},
     "output_type": "execute_result"
    }
   ],
   "source": [
    " amazon_onlineoffer(\"electoric\",10000)"
   ]
  },
  {
   "cell_type": "code",
   "execution_count": 20,
   "id": "23e3d962",
   "metadata": {},
   "outputs": [
    {
     "data": {
      "text/plain": [
       "300.0"
      ]
     },
     "execution_count": 20,
     "metadata": {},
     "output_type": "execute_result"
    }
   ],
   "source": [
    " amazon_onlineoffer(\"cloth\",1000)"
   ]
  },
  {
   "cell_type": "code",
   "execution_count": 21,
   "id": "6be129c6",
   "metadata": {},
   "outputs": [
    {
     "data": {
      "text/plain": [
       "400.0"
      ]
     },
     "execution_count": 21,
     "metadata": {},
     "output_type": "execute_result"
    }
   ],
   "source": [
    " amazon_onlineoffer(\"footware\",1000)"
   ]
  },
  {
   "cell_type": "code",
   "execution_count": null,
   "id": "44d35bec",
   "metadata": {},
   "outputs": [],
   "source": []
  },
  {
   "cell_type": "code",
   "execution_count": null,
   "id": "dc30ebd2",
   "metadata": {},
   "outputs": [],
   "source": []
  }
 ],
 "metadata": {
  "kernelspec": {
   "display_name": "Python 3 (ipykernel)",
   "language": "python",
   "name": "python3"
  },
  "language_info": {
   "codemirror_mode": {
    "name": "ipython",
    "version": 3
   },
   "file_extension": ".py",
   "mimetype": "text/x-python",
   "name": "python",
   "nbconvert_exporter": "python",
   "pygments_lexer": "ipython3",
   "version": "3.10.9"
  }
 },
 "nbformat": 4,
 "nbformat_minor": 5
}
